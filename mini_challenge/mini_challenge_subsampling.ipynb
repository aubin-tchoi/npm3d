{
 "cells": [
  {
   "cell_type": "markdown",
   "source": [
    "# Mini challenge - NPM3D"
   ],
   "metadata": {
    "collapsed": false
   }
  },
  {
   "cell_type": "markdown",
   "source": [
    "## Imports"
   ],
   "metadata": {
    "collapsed": false
   }
  },
  {
   "cell_type": "code",
   "execution_count": 1,
   "outputs": [],
   "source": [
    "from datetime import datetime\n",
    "\n",
    "import numpy as np\n",
    "from lightgbm import LGBMClassifier\n",
    "from sklearn.ensemble import RandomForestClassifier\n",
    "from sklearn.metrics import jaccard_score, ConfusionMatrixDisplay, accuracy_score\n",
    "from sklearn.model_selection import train_test_split\n",
    "from xgboost import XGBClassifier\n",
    "\n",
    "from src import FeaturesExtractor, timeit, checkpoint, write_ply"
   ],
   "metadata": {
    "collapsed": false
   }
  },
  {
   "cell_type": "code",
   "execution_count": 2,
   "outputs": [],
   "source": [
    "# paths of the training and test files\n",
    "training_path = \"./data/training\"\n",
    "test_path = \"./data/test\"\n",
    "# choosing MiniLille1 as our validation set because it is the smallest\n",
    "validation_point_cloud = \"MiniLille1.ply\""
   ],
   "metadata": {
    "collapsed": false
   }
  },
  {
   "cell_type": "code",
   "execution_count": 3,
   "outputs": [],
   "source": [
    "features_extractor = FeaturesExtractor()"
   ],
   "metadata": {
    "collapsed": false
   }
  },
  {
   "cell_type": "markdown",
   "source": [
    "## Model selection"
   ],
   "metadata": {
    "collapsed": false
   }
  },
  {
   "cell_type": "code",
   "execution_count": 4,
   "outputs": [],
   "source": [
    "def choose_model(model_name: str):\n",
    "    if model_name == \"sklearn\":\n",
    "        return RandomForestClassifier()\n",
    "    elif model_name == \"lgbm\":\n",
    "        return LGBMClassifier()\n",
    "    elif model_name == \"xgboost\":\n",
    "        return XGBClassifier()\n",
    "    else:\n",
    "        raise ValueError(\"Incorrect model name passed\")"
   ],
   "metadata": {
    "collapsed": false
   }
  },
  {
   "cell_type": "code",
   "execution_count": 5,
   "outputs": [],
   "source": [
    "model_name = \"lgbm\"  # @param\n",
    "clf = choose_model(model_name)"
   ],
   "metadata": {
    "collapsed": false
   }
  },
  {
   "cell_type": "markdown",
   "source": [
    "## Pipelines"
   ],
   "metadata": {
    "collapsed": false
   }
  },
  {
   "cell_type": "code",
   "execution_count": 6,
   "outputs": [],
   "source": [
    "@timeit\n",
    "def save_prediction(\n",
    "    clf,\n",
    "    test_path: str,\n",
    "    file_path: str = f\"submissions/{model_name}-{datetime.now().strftime('%Y_%m_%d-%H_%M')}.txt\",\n",
    "):\n",
    "    timer = checkpoint()\n",
    "    test_features = features_extractor.extract_features_no_label(test_path)\n",
    "    timer(\"Time spent computing test features\")\n",
    "\n",
    "    predictions = clf.predict(test_features)\n",
    "    timer(\"Time spent on test prediction\")\n",
    "\n",
    "    assert predictions.shape[0] == 3079187, \"Incorrect number of predictions\"\n",
    "\n",
    "    if model_name == \"xgboost\":\n",
    "        predictions += 1\n",
    "\n",
    "    np.savetxt(\n",
    "        file_path,\n",
    "        predictions,\n",
    "        fmt=\"%d\",\n",
    "    )\n",
    "    timer(f\"Time spent writing results on {file_path}\")"
   ],
   "metadata": {
    "collapsed": false
   }
  },
  {
   "cell_type": "code",
   "execution_count": 7,
   "outputs": [],
   "source": [
    "@timeit\n",
    "def test(\n",
    "    clf,\n",
    "    test_features: np.ndarray,\n",
    "    test_labels: np.ndarray,\n",
    "    point_cloud: np.ndarray,\n",
    "    file_path: str = f\"submissions/point_clouds/{model_name}-{datetime.now().strftime('%Y_%m_%d-%H_%M')}.ply\",\n",
    ") -> None:\n",
    "    prediction = clf.predict(test_features)\n",
    "    print(f\"Accuracy:      {accuracy_score(test_labels, prediction) * 100:.2f}%\")\n",
    "    print(\n",
    "        f\"Jaccard score: {jaccard_score(test_labels, prediction, average='micro'):.4f}\"\n",
    "    )\n",
    "    ConfusionMatrixDisplay.from_predictions(test_labels, prediction)\n",
    "    write_ply(\n",
    "        file_path,\n",
    "        [\n",
    "            point_cloud,\n",
    "            prediction,\n",
    "            test_labels,\n",
    "        ],\n",
    "        [\"x\", \"y\", \"z\", \"predicted_label\", \"true_label\"],\n",
    "    )"
   ],
   "metadata": {
    "collapsed": false
   }
  },
  {
   "cell_type": "markdown",
   "source": [
    "## Experiments"
   ],
   "metadata": {
    "collapsed": false
   }
  },
  {
   "cell_type": "markdown",
   "source": [
    "## Testing the model with one point cloud for validation"
   ],
   "metadata": {
    "collapsed": false
   }
  },
  {
   "cell_type": "code",
   "execution_count": 8,
   "outputs": [
    {
     "name": "stdout",
     "output_type": "stream",
     "text": [
      "\n",
      "Reading file MiniParis1.ply\n",
      "1210261 elements available for class Ground\n",
      "1071599 elements available for class Building\n",
      "24787 elements available for class Poles\n",
      "32396 elements available for class Pedestrians\n",
      "50468 elements available for class Cars\n",
      "1455156 elements available for class Vegetation\n",
      "\n",
      "Reading file MiniLille1.ply\n",
      "767722 elements available for class Ground\n",
      "864939 elements available for class Building\n",
      "5532 elements available for class Poles\n",
      "0 elements available for class Pedestrians\n",
      "114237 elements available for class Cars\n",
      "104182 elements available for class Vegetation\n",
      "\n",
      "Reading file MiniLille2.ply\n",
      "1074040 elements available for class Ground\n",
      "1000935 elements available for class Building\n",
      "13094 elements available for class Poles\n",
      "0 elements available for class Pedestrians\n",
      "96132 elements available for class Cars\n",
      "261365 elements available for class Vegetation\n",
      "CPU times: user 251 ms, sys: 90.6 ms, total: 341 ms\n",
      "Wall time: 397 ms\n"
     ]
    }
   ],
   "source": [
    "%%time\n",
    "test_point_cloud = features_extractor.extract_point_clouds(\n",
    "    training_path, validation_point_cloud\n",
    ")[2]"
   ],
   "metadata": {
    "collapsed": false
   }
  },
  {
   "cell_type": "code",
   "execution_count": 9,
   "metadata": {
    "collapsed": true
   },
   "outputs": [
    {
     "name": "stdout",
     "output_type": "stream",
     "text": [
      "\n",
      "Reading file MiniParis1.ply\n",
      "Using cached features and labels\n",
      "\n",
      "Reading file MiniLille1.ply\n",
      "Using cached features and labels\n",
      "\n",
      "Reading file MiniLille2.ply\n",
      "Using cached features and labels\n",
      "CPU times: user 75.5 ms, sys: 639 ms, total: 714 ms\n",
      "Wall time: 1.17 s\n"
     ]
    }
   ],
   "source": [
    "%%time\n",
    "train_features, train_labels = features_extractor.extract_features(training_path)\n",
    "X_train, X_val, y_train, y_val = train_test_split(train_features, train_labels, test_size=0.2, random_state=42)"
   ]
  },
  {
   "cell_type": "code",
   "execution_count": 10,
   "outputs": [],
   "source": [
    "if model_name == \"xgboost\":\n",
    "    train_labels -= 1\n",
    "    train_labels = train_labels.astype(int)"
   ],
   "metadata": {
    "collapsed": false
   }
  },
  {
   "cell_type": "code",
   "execution_count": 11,
   "outputs": [
    {
     "name": "stdout",
     "output_type": "stream",
     "text": [
      "CPU times: user 4min 40s, sys: 12 s, total: 4min 52s\n",
      "Wall time: 57.3 s\n"
     ]
    },
    {
     "data": {
      "text/plain": "LGBMClassifier()",
      "text/html": "<style>#sk-container-id-1 {color: black;background-color: white;}#sk-container-id-1 pre{padding: 0;}#sk-container-id-1 div.sk-toggleable {background-color: white;}#sk-container-id-1 label.sk-toggleable__label {cursor: pointer;display: block;width: 100%;margin-bottom: 0;padding: 0.3em;box-sizing: border-box;text-align: center;}#sk-container-id-1 label.sk-toggleable__label-arrow:before {content: \"▸\";float: left;margin-right: 0.25em;color: #696969;}#sk-container-id-1 label.sk-toggleable__label-arrow:hover:before {color: black;}#sk-container-id-1 div.sk-estimator:hover label.sk-toggleable__label-arrow:before {color: black;}#sk-container-id-1 div.sk-toggleable__content {max-height: 0;max-width: 0;overflow: hidden;text-align: left;background-color: #f0f8ff;}#sk-container-id-1 div.sk-toggleable__content pre {margin: 0.2em;color: black;border-radius: 0.25em;background-color: #f0f8ff;}#sk-container-id-1 input.sk-toggleable__control:checked~div.sk-toggleable__content {max-height: 200px;max-width: 100%;overflow: auto;}#sk-container-id-1 input.sk-toggleable__control:checked~label.sk-toggleable__label-arrow:before {content: \"▾\";}#sk-container-id-1 div.sk-estimator input.sk-toggleable__control:checked~label.sk-toggleable__label {background-color: #d4ebff;}#sk-container-id-1 div.sk-label input.sk-toggleable__control:checked~label.sk-toggleable__label {background-color: #d4ebff;}#sk-container-id-1 input.sk-hidden--visually {border: 0;clip: rect(1px 1px 1px 1px);clip: rect(1px, 1px, 1px, 1px);height: 1px;margin: -1px;overflow: hidden;padding: 0;position: absolute;width: 1px;}#sk-container-id-1 div.sk-estimator {font-family: monospace;background-color: #f0f8ff;border: 1px dotted black;border-radius: 0.25em;box-sizing: border-box;margin-bottom: 0.5em;}#sk-container-id-1 div.sk-estimator:hover {background-color: #d4ebff;}#sk-container-id-1 div.sk-parallel-item::after {content: \"\";width: 100%;border-bottom: 1px solid gray;flex-grow: 1;}#sk-container-id-1 div.sk-label:hover label.sk-toggleable__label {background-color: #d4ebff;}#sk-container-id-1 div.sk-serial::before {content: \"\";position: absolute;border-left: 1px solid gray;box-sizing: border-box;top: 0;bottom: 0;left: 50%;z-index: 0;}#sk-container-id-1 div.sk-serial {display: flex;flex-direction: column;align-items: center;background-color: white;padding-right: 0.2em;padding-left: 0.2em;position: relative;}#sk-container-id-1 div.sk-item {position: relative;z-index: 1;}#sk-container-id-1 div.sk-parallel {display: flex;align-items: stretch;justify-content: center;background-color: white;position: relative;}#sk-container-id-1 div.sk-item::before, #sk-container-id-1 div.sk-parallel-item::before {content: \"\";position: absolute;border-left: 1px solid gray;box-sizing: border-box;top: 0;bottom: 0;left: 50%;z-index: -1;}#sk-container-id-1 div.sk-parallel-item {display: flex;flex-direction: column;z-index: 1;position: relative;background-color: white;}#sk-container-id-1 div.sk-parallel-item:first-child::after {align-self: flex-end;width: 50%;}#sk-container-id-1 div.sk-parallel-item:last-child::after {align-self: flex-start;width: 50%;}#sk-container-id-1 div.sk-parallel-item:only-child::after {width: 0;}#sk-container-id-1 div.sk-dashed-wrapped {border: 1px dashed gray;margin: 0 0.4em 0.5em 0.4em;box-sizing: border-box;padding-bottom: 0.4em;background-color: white;}#sk-container-id-1 div.sk-label label {font-family: monospace;font-weight: bold;display: inline-block;line-height: 1.2em;}#sk-container-id-1 div.sk-label-container {text-align: center;}#sk-container-id-1 div.sk-container {/* jupyter's `normalize.less` sets `[hidden] { display: none; }` but bootstrap.min.css set `[hidden] { display: none !important; }` so we also need the `!important` here to be able to override the default hidden behavior on the sphinx rendered scikit-learn.org. See: https://github.com/scikit-learn/scikit-learn/issues/21755 */display: inline-block !important;position: relative;}#sk-container-id-1 div.sk-text-repr-fallback {display: none;}</style><div id=\"sk-container-id-1\" class=\"sk-top-container\"><div class=\"sk-text-repr-fallback\"><pre>LGBMClassifier()</pre><b>In a Jupyter environment, please rerun this cell to show the HTML representation or trust the notebook. <br />On GitHub, the HTML representation is unable to render, please try loading this page with nbviewer.org.</b></div><div class=\"sk-container\" hidden><div class=\"sk-item\"><div class=\"sk-estimator sk-toggleable\"><input class=\"sk-toggleable__control sk-hidden--visually\" id=\"sk-estimator-id-1\" type=\"checkbox\" checked><label for=\"sk-estimator-id-1\" class=\"sk-toggleable__label sk-toggleable__label-arrow\">LGBMClassifier</label><div class=\"sk-toggleable__content\"><pre>LGBMClassifier()</pre></div></div></div></div></div>"
     },
     "execution_count": 11,
     "metadata": {},
     "output_type": "execute_result"
    }
   ],
   "source": [
    "%%time\n",
    "clf.fit(X_train, y_train)"
   ],
   "metadata": {
    "collapsed": false
   }
  },
  {
   "cell_type": "code",
   "execution_count": 12,
   "outputs": [
    {
     "name": "stdout",
     "output_type": "stream",
     "text": [
      "Training set score: 0.9999\n",
      "Test set score: 0.8793\n"
     ]
    }
   ],
   "source": [
    "print(f\"Training set score: {clf.score(X_train, y_train):.4f}\")\n",
    "print(f\"Test set score: {clf.score(X_val, y_val):.4f}\")"
   ],
   "metadata": {
    "collapsed": false
   }
  },
  {
   "cell_type": "code",
   "execution_count": 13,
   "outputs": [
    {
     "name": "stdout",
     "output_type": "stream",
     "text": [
      "Accuracy:      87.93%\n",
      "Jaccard score: 0.7845\n",
      "Function test took 2.69 seconds\n"
     ]
    },
    {
     "data": {
      "text/plain": "<Figure size 640x480 with 2 Axes>",
      "image/png": "[encoded data removed]"
     },
     "metadata": {},
     "output_type": "display_data"
    }
   ],
   "source": [
    "test(clf, X_val, y_val, test_point_cloud)"
   ],
   "metadata": {
    "collapsed": false
   }
  },
  {
   "cell_type": "markdown",
   "source": [
    "## Training the model on all three point clouds"
   ],
   "metadata": {
    "collapsed": false
   }
  },
  {
   "cell_type": "markdown",
   "source": [
    "## Cross validation"
   ],
   "metadata": {
    "collapsed": false
   }
  },
  {
   "cell_type": "code",
   "execution_count": null,
   "outputs": [],
   "source": [
    "from sklearn.model_selection import GridSearchCV, KFold\n",
    "\n",
    "gkf = KFold(shuffle=True, random_state=42).split(X=train_features, y=train_labels)\n",
    "\n",
    "param_grid = {\n",
    "    \"learning_rate\": [1e-2, 1e-3],\n",
    "    \"num_leaves\": [27, 31, 127],\n",
    "    # \"reg_alpha\": [0.1, 0.5],\n",
    "    # \"reg_lambda\": [0.1, 0.5],\n",
    "    # \"min_child_samples\": [18, 20],\n",
    "    # \"min_child_weight\": [5e-4, 1e-3],\n",
    "}\n",
    "\n",
    "gsearch = GridSearchCV(estimator=clf, param_grid=param_grid, cv=gkf)\n",
    "lgb_model = gsearch.fit(X=train_features, y=train_labels)\n",
    "\n",
    "print(lgb_model.best_params_, lgb_model.best_score_)\n",
    "\n",
    "gsearch = GridSearchCV(estimator=clf, param_grid=param_grid, cv=gkf)\n",
    "lgb_model = gsearch.fit(X=train_features, y=train_labels)\n",
    "\n",
    "print(lgb_model.best_params_, lgb_model.best_score_)"
   ],
   "metadata": {
    "collapsed": false,
    "pycharm": {
     "is_executing": true
    }
   }
  },
  {
   "cell_type": "code",
   "execution_count": null,
   "outputs": [],
   "source": [
    "%%time\n",
    "clf.fit(train_features, train_labels)"
   ],
   "metadata": {
    "collapsed": false
   }
  },
  {
   "cell_type": "code",
   "execution_count": null,
   "outputs": [],
   "source": [
    "save_prediction(clf, test_path)"
   ],
   "metadata": {
    "collapsed": false
   }
  },
  {
   "cell_type": "markdown",
   "source": [
    "Remove ground and perform region growing + majority vote (class importance in vote can be learning)."
   ],
   "metadata": {
    "collapsed": false
   }
  }
 ],
 "metadata": {
  "kernelspec": {
   "display_name": "Python 3",
   "language": "python",
   "name": "python3"
  },
  "language_info": {
   "codemirror_mode": {
    "name": "ipython",
    "version": 2
   },
   "file_extension": ".py",
   "mimetype": "text/x-python",
   "name": "python",
   "nbconvert_exporter": "python",
   "pygments_lexer": "ipython2",
   "version": "2.7.6"
  }
 },
 "nbformat": 4,
 "nbformat_minor": 0
}
