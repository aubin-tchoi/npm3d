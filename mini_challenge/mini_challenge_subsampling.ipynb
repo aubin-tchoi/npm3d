{
 "cells": [
  {
   "cell_type": "code",
   "execution_count": 1,
   "outputs": [],
   "source": [
    "import time\n",
    "from datetime import datetime\n",
    "\n",
    "import numpy as np\n",
    "from sklearn.ensemble import RandomForestClassifier\n",
    "\n",
    "from src import FeaturesExtractor"
   ],
   "metadata": {
    "collapsed": false
   }
  },
  {
   "cell_type": "code",
   "execution_count": null,
   "metadata": {
    "collapsed": true,
    "pycharm": {
     "is_executing": true
    }
   },
   "outputs": [
    {
     "name": "stdout",
     "output_type": "stream",
     "text": [
      "Collect Training Features\n",
      "(3000, 21)\n",
      "(3000, 0)\n",
      "(3000, 21)\n",
      "(3000, 21)\n",
      "(3000, 21)\n",
      "(3000, 42)\n",
      "(3000, 21)\n",
      "(3000, 63)\n",
      "(3000, 21)\n",
      "(3000, 84)\n",
      "(3000, 21)\n",
      "(3000, 105)\n",
      "(3000, 21)\n",
      "(3000, 126)\n",
      "(3000, 21)\n",
      "(3000, 147)\n",
      "(2500, 21)\n",
      "(2500, 0)\n",
      "(2500, 21)\n",
      "(2500, 21)\n",
      "(2500, 21)\n",
      "(2500, 42)\n",
      "(2500, 21)\n",
      "(2500, 63)\n",
      "(2500, 21)\n",
      "(2500, 84)\n",
      "(2500, 21)\n",
      "(2500, 105)\n",
      "(2500, 21)\n",
      "(2500, 126)\n",
      "(2500, 21)\n",
      "(2500, 147)\n",
      "(2500, 21)\n",
      "(2500, 0)\n",
      "(2500, 21)\n",
      "(2500, 21)\n",
      "(2500, 21)\n",
      "(2500, 42)\n",
      "(2500, 21)\n",
      "(2500, 63)\n",
      "(2500, 21)\n",
      "(2500, 84)\n",
      "(2500, 21)\n",
      "(2500, 105)\n",
      "(2500, 21)\n",
      "(2500, 126)\n",
      "(2500, 21)\n",
      "(2500, 147)\n",
      "Done in 153.887s\n",
      "\n",
      "Training Random Forest\n",
      "Done in 4.590s\n",
      "\n",
      "Compute testing features\n",
      "(3079187, 21)\n",
      "(3079187, 0)\n",
      "(3079187, 21)\n",
      "(3079187, 21)\n",
      "(3079187, 21)\n",
      "(3079187, 42)\n",
      "(3079187, 21)\n",
      "(3079187, 63)\n",
      "(3079187, 21)\n",
      "(3079187, 84)\n",
      "(3079187, 21)\n",
      "(3079187, 105)\n",
      "(3079187, 21)\n",
      "(3079187, 126)\n"
     ]
    }
   ],
   "source": [
    "# paths of the training and test files\n",
    "training_path = \"./data/training\"\n",
    "test_path = \"./data/test\"\n",
    "\n",
    "#   For this simple algorithm, we only compute the features for a subset of the training points. We choose N points\n",
    "#   per class in each training file. This has two advantages : balancing the class for our classifier and saving a\n",
    "#   lot of computational time.\n",
    "\n",
    "print(\"Collect Training Features\")\n",
    "t0 = time.time()\n",
    "f_extractor = FeaturesExtractor()\n",
    "training_features, training_labels = f_extractor.extract_training(training_path)\n",
    "t1 = time.time()\n",
    "print(\"Done in %.3fs\\n\" % (t1 - t0))\n",
    "\n",
    "print(\"Training Random Forest\")\n",
    "t0 = time.time()\n",
    "clf = RandomForestClassifier()\n",
    "clf.fit(training_features, training_labels)\n",
    "t1 = time.time()\n",
    "print(\"Done in %.3fs\\n\" % (t1 - t0))\n",
    "\n",
    "print(\"Compute testing features\")\n",
    "t0 = time.time()\n",
    "test_features = f_extractor.extract_test(test_path)\n",
    "t1 = time.time()\n",
    "print(\"Done in %.3fs\\n\" % (t1 - t0))\n",
    "\n",
    "print(\"Test\")\n",
    "t0 = time.time()\n",
    "predictions = clf.predict(test_features)\n",
    "t1 = time.time()\n",
    "print(\"Done in %.3fs\\n\" % (t1 - t0))\n",
    "\n",
    "assert predictions.shape[0] == 3079187, \"Incorrect number of predictions\"\n",
    "\n",
    "print(\"Save predictions\")\n",
    "t0 = time.time()\n",
    "np.savetxt(\n",
    "    f\"submissions/feat-{datetime.now().strftime('%Y_%m_%d-%H_%M')}.txt\",\n",
    "    predictions,\n",
    "    fmt=\"%d\",\n",
    ")\n",
    "t1 = time.time()\n",
    "print(\"Done in %.3fs\\n\" % (t1 - t0))"
   ]
  },
  {
   "cell_type": "code",
   "execution_count": null,
   "outputs": [],
   "source": [],
   "metadata": {
    "collapsed": false
   }
  }
 ],
 "metadata": {
  "kernelspec": {
   "display_name": "Python 3",
   "language": "python",
   "name": "python3"
  },
  "language_info": {
   "codemirror_mode": {
    "name": "ipython",
    "version": 2
   },
   "file_extension": ".py",
   "mimetype": "text/x-python",
   "name": "python",
   "nbconvert_exporter": "python",
   "pygments_lexer": "ipython2",
   "version": "2.7.6"
  }
 },
 "nbformat": 4,
 "nbformat_minor": 0
}
